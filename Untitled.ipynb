{
 "cells": [
  {
   "cell_type": "code",
   "execution_count": 2,
   "metadata": {
    "collapsed": true
   },
   "outputs": [],
   "source": [
    "import nltk\n",
    "import re\n",
    "import pandas as pd\n",
    "import numpy as np"
   ]
  },
  {
   "cell_type": "code",
   "execution_count": 3,
   "metadata": {
    "collapsed": true
   },
   "outputs": [],
   "source": [
    "dataset = pd.read_csv('Restaurant_Reviews.tsv',delimiter='\\t',quoting = 3)"
   ]
  },
  {
   "cell_type": "code",
   "execution_count": 39,
   "metadata": {},
   "outputs": [],
   "source": [
    "test = dataset['Review'][100]"
   ]
  },
  {
   "cell_type": "code",
   "execution_count": 29,
   "metadata": {},
   "outputs": [
    {
     "data": {
      "text/plain": [
       "[(0, 'Wow...'), (1, 'Loved'), (2, 'this'), (3, 'place.')]"
      ]
     },
     "execution_count": 29,
     "metadata": {},
     "output_type": "execute_result"
    }
   ],
   "source": [
    "list(enumerate(test.split()))"
   ]
  },
  {
   "cell_type": "code",
   "execution_count": 48,
   "metadata": {
    "collapsed": true
   },
   "outputs": [],
   "source": [
    "from nltk.corpus import stopwords\n",
    "stpw = set(stopwords.words('english'))\n",
    "from nltk.stem.wordnet import WordNetLemmatizer\n",
    "obj = WordNetLemmatizer()"
   ]
  },
  {
   "cell_type": "code",
   "execution_count": 53,
   "metadata": {},
   "outputs": [
    {
     "name": "stdout",
     "output_type": "stream",
     "text": [
      "[nltk_data] Downloading package wordnet to\n",
      "[nltk_data]     C:\\Users\\Admin\\AppData\\Roaming\\nltk_data...\n",
      "[nltk_data]   Unzipping corpora\\wordnet.zip.\n"
     ]
    },
    {
     "data": {
      "text/plain": [
       "True"
      ]
     },
     "execution_count": 53,
     "metadata": {},
     "output_type": "execute_result"
    }
   ],
   "source": [
    "nltk.download('wordnet')"
   ]
  },
  {
   "cell_type": "code",
   "execution_count": 54,
   "metadata": {
    "collapsed": true
   },
   "outputs": [],
   "source": [
    "def clean_text(text):\n",
    "    ret = re.sub(r'[^a-zA-Z0-9]',' ',text)\n",
    "    str_list = ret.split()\n",
    "    for i,word in list(enumerate(str_list)):\n",
    "        if word in slangdict.keys():\n",
    "            str_list[i] = slangdict[word]\n",
    "    \n",
    "    ret = \" \".join(str_list)\n",
    "    str_list = ret.lower().split()\n",
    "    str_list = [obj.lemmatize(word) for word in str_list if word not in stpw]\n",
    "    ret = \" \".join(str_list)\n",
    "    \n",
    "    \n",
    "    return ret\n",
    "    "
   ]
  },
  {
   "cell_type": "code",
   "execution_count": null,
   "metadata": {
    "collapsed": true
   },
   "outputs": [],
   "source": []
  },
  {
   "cell_type": "code",
   "execution_count": 55,
   "metadata": {},
   "outputs": [
    {
     "data": {
      "text/plain": [
       "'Our server was fantastic and when he found out the wife loves roasted garlic and bone marrow, he added extra to our meal and another marrow to go!'"
      ]
     },
     "execution_count": 55,
     "metadata": {},
     "output_type": "execute_result"
    }
   ],
   "source": [
    "test"
   ]
  },
  {
   "cell_type": "code",
   "execution_count": 56,
   "metadata": {},
   "outputs": [
    {
     "data": {
      "text/plain": [
       "'server fantastic found wife love roasted garlic bone marrow added extra meal another marrow go'"
      ]
     },
     "execution_count": 56,
     "metadata": {},
     "output_type": "execute_result"
    }
   ],
   "source": [
    "clean_text(test)"
   ]
  },
  {
   "cell_type": "code",
   "execution_count": 23,
   "metadata": {},
   "outputs": [],
   "source": [
    "##FOR SCRAPING THE SLANG WORD DICTIONARY\n",
    "from bs4 import BeautifulSoup\n",
    "import requests, json\n",
    "resp = requests.get('http://www.netlingo.com/acronyms.php')\n",
    "soup = BeautifulSoup(resp.text, \"html.parser\")\n",
    "slangdict= {}\n",
    "key=\"\"\n",
    "value=\"\"\n",
    "for div in soup.findAll('div', attrs={'class':'list_box3'}):\n",
    "    for li in div.findAll('li'):\n",
    "        for a in li.findAll('a'):\n",
    "            key =a.text\n",
    "        value = li.text.split(key)[1]\n",
    "        slangdict[key]=value\n",
    "with open('myslang.json', 'w') as fid:\n",
    "    json.dump(slangdict,fid,indent=2)"
   ]
  },
  {
   "cell_type": "code",
   "execution_count": 31,
   "metadata": {},
   "outputs": [
    {
     "data": {
      "text/plain": [
       "dict_keys(['!', '#FF', '(U)', '*$', '**//', ',!!!!', '/R/', '02', '10Q', '1174', '121', '123', '1337', '14', '142n8ly', '143', '1432', '14AA41', '182', '187', '19', '1daful', '1V4', '2', '20', '24/7', '2b', '2B or not 2B', '2b@', '2BZ4UQT', '2B~not2B', '2d4', '2day', '2DLoo', '2G2B4G', '2G2BT', '2moro', '2nite', '2QT', '2U2', '303', '4', '403', '404', '411', '420', '459', '4COL', '4e', '4EAE', '4eva', '4ever', '4FS', '4NR', '4Q', '511', '53X', '5FS', '747', '775', '8', '831', '86', '88', '8t', '9', '99', '996', '::poof::', '<3', '=', '?', '?^', '@', '@+', '@TEOTD', 'A/N', 'A/S/L/P', 'A2D', 'A3', 'AAAAA', 'AAF', 'AAK', 'AAMOF', 'AAMOI', 'AAP', 'AAR', 'AAR8', 'AAS', 'AATK', 'AAYF', 'AB', 'ab/abt', 'ABC', 'ABCD', 'ABH', 'ABITHIWTITB', 'ABK', 'ABT2', 'ACC', 'ACD', 'ACE', 'ACK', 'ACORN', 'ADAD', 'ADBB', 'add', 'addy', 'ADIDAS', 'ADIH', 'ADIP', 'ADM', 'ADN', 'ADR', 'ADVD', 'AEAP', 'AF', 'AFAGAY', 'AFAHMASP', 'AFAIC', 'AFAICS', 'AFAICT', 'AFAIK', 'AFAIR', 'AFAIU', 'AFAIUI', 'AFAP', 'AFAYC', 'AFC', 'AFDN', 'AFGO', 'AFIAA', 'AFINIAFI', 'AFJ', 'AFK', 'AFPOE', 'AFT', 'AFU', 'AFW', 'AFZ', 'AGB', 'AGIG', 'AGKWE', 'AI', 'AIAMU', 'aight', 'AIH', 'AIMB', 'AIMP', 'AISB', 'AISE', 'AISI', 'AITR', 'AKA or a.k.a.', 'ALAP', 'alcon', 'ALOL', 'ALOTBSOL', 'ALTG', 'ALW', 'AMA', 'AMAP', 'AMBW', 'AMF', 'AML', 'AMOSC', 'AMP', 'AMRMTYFTS', 'ANFAWFOS', 'ANFSCD', 'ANGB', 'AOAS', 'AOB', 'AON', 'AOR', 'AOYP', 'AP', 'APAC', 'APU', 'AR', 'AS', 'ASAFP', 'ASAMOF', 'ASAP', 'ASAYGT', 'ASL', 'ASLMH', 'ASMR', 'ATAB', 'ATBIMS', 'ATC', 'ATM', 'ATSL', 'ATST', 'ATW', 'ATWD', 'AUNT', 'AUNTM', 'AWC', 'AWGTHTGTTA', 'AWHFY', 'AWLTP', 'AWNIAC', 'AWOL', 'AWS', 'AWTTW', 'ax', 'AYC', 'AYCE', 'AYEG', 'AYFKMWTS', 'AYK', 'AYMM', 'AYOR', 'AYSOS', 'AYTMTB', 'AYV', 'B', 'B&E', 'B&F', 'B/C', 'B/W', 'B2A', 'B2B', 'B2B2C', 'B2C', 'B2D', 'B2E', 'B2G', 'B4', 'B4N', 'B4U', 'B4YKI', 'B@U or BAK@U', 'BABY', 'BAC', 'bae', 'BAEB', 'BAESBO', 'BAG', 'BAK', 'BAMF', 'banana', 'BARB', 'BASE', 'BAU', 'BB', 'BB4N', 'BBAMFIC', 'BBB', 'BBBG', 'BBFBBM', 'BBFN', 'BBIAB', 'BBIAF', 'BBIAS', 'BBIAW', 'BBL', 'BBMFIC', 'BBQ', 'BBR', 'BBS', 'BBSD', 'BBSL', 'BBT', 'BBW', 'BC', 'BCBG', 'BCBS', 'BCNU', 'bcoz', 'BD', 'BDBI5M', 'BDC', 'BDE', 'BDN', 'BDOA', 'BDSM', 'BEG', 'beos', 'BF', 'BF4L', 'BFBO', 'BFD', 'BFE', 'BFF', 'BFFN', 'BFFTTE', 'BFFW', 'BFG', 'BFN', 'BFR', 'BG', 'BGBC', 'BGF', 'BHAG', 'BHG', 'BHIMBGO', 'BHOF', 'BI', 'BI5', 'BIBI', 'BIBLE', 'BIBO', 'BIF', 'BIL', 'BIO', 'BIOIYA', 'BION', 'BIOYA', 'BIOYE', 'BIOYIOP', 'BIOYN', 'BITCH', 'BITD', 'BITFOB', 'BIZ', 'BJ', 'BKA', 'BL', 'BLAST', 'BLBBLB', 'BLD', 'Blkbry', 'BLZRD', 'BM', 'BMF', 'BMGWL', 'BMOC', 'BMOF', 'BMOTA', 'BMS', 'BMW', 'BN', 'BNDN', 'BNF', 'BO', 'BOAISY', 'BOAT', 'BOB', 'BOBFOC', 'BOCTAAE', 'BOD', 'BOFH', 'BOH', 'BOHICA', 'BOL', 'BON', 'book', 'BOTEC', 'BOTL', 'BOTOH', 'BOTUS', 'BPLM', 'BR', 'BRB', 'BRICS', 'BRL', 'BRO', 'BRT', 'BRUF', 'BS', 'BSAAW', 'BSBD&NE', 'BSEG', 'BSF', 'BSOD', 'BT', 'BTA', 'BTD', 'BTDT', 'BTDTGTS', 'BTFLDY', 'BTFO', 'BTHOOM', 'BTI', 'BTN', 'BTOIYA', 'BTR', 'BTSOOM', 'BTTE', 'BTTP', 'BTTT', 'BTW', 'BTWBO', 'BTWITIAILWU', 'BTYC', 'BTYD', 'BUFF', 'buhbye', 'bump', 'BW', 'BWDIK', 'BWI', 'BWL', 'BWO', 'BWTM', 'BYAM', 'BYKI', 'BYKT', 'BYOA', 'BYOB', 'BYOD', 'BYOP', 'BYOW', 'BYTME', 'BZ', 'C', 'c ya', 'c%d', 'c%l', 'C&G', 'C-P', 'C-T', 'C/P', 'C/S', 'C4N', 'CAAC', 'CAL', 'CAS', 'CB', 'CBB', 'CBD', 'CBF', 'CBJ', 'CBM', 'CBOT', 'CBT', 'cc', 'CCOT', 'CCW', 'CD', 'CD9', 'CF', 'CFV', 'CHA', 'chln', 'CIAO', 'CICO', 'CICYHW', 'CID', 'CIL', 'CINBA', 'CIO', 'CITO', 'CLD', 'CLM', 'CM', 'CMAO', 'CMAP', 'CMB', 'CMF', 'CMIW', 'CMSU', 'CMU', 'CN', 'CNP', 'COB', 'COBRAS', 'COD', 'Cof$', 'CofS', 'COL', 'coo', 'COS', 'COT', 'CPA', 'CPC', 'CPG', 'CPL', 'CQRT', 'CQTS', 'CRAFT', 'CRAP', 'CRAT', 'CRAWS', 'CRB', 'CRBT', 'CRD', 'CRDTCHCK', 'CRS', 'CRTLA', 'CS', 'CS&F', 'CSA', 'CSABR', 'CSL', 'CSN', 'CT', 'CTA', 'CTC', 'CTFD', 'CTFO', 'CTFU', 'CTMQ', 'CTO', 'CU', 'CU46', 'CUA', 'CUATSC', 'CUATU', 'CUL', 'CUL8R', 'CULA', 'CUNS', 'CUNT', 'CUOL', 'CUPL', 'CUWTA', 'CUZ', 'CWOT', 'CWYL', 'CX', 'CxO', 'CY', 'CYA', 'CYE', 'CYL', 'CYM', 'CYO', 'CYOH', 'CYT', 'D', 'D&M', 'd/c', 'd00d', 'D2D', 'D8', 'da', 'DAFUQ', 'DAMHIKT', 'DANNY', 'DARFC', 'DBA', 'DBABAI', 'DBBSWF', 'DBD', 'DBEYR', 'DBMIB', 'DD', 'DDAS', 'DDG', 'DDSOS', 'DDWI', 'def', 'defo', 'DEGT', 'dem', 'DENIAL', 'dese', 'DETI', 'DETWEET', 'dewd', 'dey', 'DF', 'DFIK', 'DFLA', 'DFTBA', 'DFU', 'DFWLY', 'DGA', 'DGAF', 'DGARA', 'DGT', 'DGTG', 'DGYF', 'DH', 'DHYB', 'DIAF', 'DIC', 'DIFBET', 'DIKU', 'DILLIGAD', 'DILLIGAS', 'DINK', 'DINO', 'DINR', 'DIRFT', 'DISTO', 'DITR', 'ditto', 'DITYID', 'DIY', 'DJM', 'DK', 'DKDC', 'DL', 'DLTBBB', 'DLTM', 'DM', 'DMI', 'DNBL8', 'DNC', 'DND', 'DNF', 'DNPMPL', 'DNR', 'DOA', 'DOC', 'DOE', 'DOEI', 'DOG', 'DOH', 'doin', 'DORD', 'DOS', 'DP', 'dps', 'DPUP', 'DQMOT', 'DQYDJ', 'DRB', 'DRCOWOTO', 'DRIB', 'DSL', 'DSTR8', 'DTC', 'DTF', 'DTK', 'DTR', 'DTRT', 'DUI', 'DUM', 'DUNA', 'dunno', 'DUR', 'DURS', 'DUSL', 'DUST', 'DW', 'DW2H', 'DWB', 'DWBH', 'DWEET', 'DWH', 'DWI', 'DWPKOTL', 'DWS', 'DWWWI', 'DWYM', 'DYAC', 'DYD', 'DYFM', 'DYHAB', 'DYHAG', 'DYJHIW', 'DYLI', 'DYOFDW', 'DYSTSOTT', 'E123', 'E2HO', 'EABOS', 'EADD', 'EAK', 'EAPFS', 'ED', 'EDM', 'EE', 'EE or EEs', 'effin', 'EFT', 'EG', 'EGOT', 'EHE', 'EHT', 'EIP', 'EL', 'ELOL', 'EM', 'EMA', 'EMBM', 'EMDR', 'EMEA', 'EMFBI', 'EMFJI', 'EMI', 'EML', 'EMP', 'EMRTW', 'EMSG', 'EOD', 'EOL', 'EOM', 'EOT', 'EOW', 'ESAD', 'ESADYFA', 'ESEMED', 'ESFOAD', 'ESG', 'ESH', 'ESMF', 'ESO', 'ETA', 'ETLA', 'ETX', 'every1', 'EVRE1', 'EWI', 'EYD', 'EYFD', 'EZ', 'F', 'F/U', 'F2F', 'F2Fmail', 'F2T', 'F4F', 'FAANGs', 'FAB', 'FAE', 'FAF', 'FAH', 'FAITH', 'FAP', 'FAQL', 'FASB', 'FATC', 'FATM', 'FAV', 'FAWC', 'FAWOMFT', 'FAY', 'FB', 'FBI', 'FBKS', 'FBOCD', 'FCFS', 'FCOL', 'FCS', 'FDFF', 'FDGB', 'FDU', 'FE', 'FEAR', 'FF', 'FF&PN', 'FFA', 'FFS', 'FFT', 'FGDAI', 'FGF', 'FHO', 'FIF', 'FIFO', 'FIGJAM', 'FIGMO', 'FIGS', 'FIIK', 'FIL', 'FILF', 'FILO', 'FILTH', 'FINE', 'finsta', 'FIRE', 'FISH', 'FITB', 'FITYMI', 'FKM', 'FLA', 'FLOTUS', 'FLUID', 'FML', 'FMLTWIA', 'FMOT', 'FMTYEWTK', 'FMUTA', 'FNG', 'FO', 'FOAD', 'FOAF', 'FOAG', 'fob', 'FOC', 'FOE', 'FOFL', 'FOGC', 'FOH', 'FOL', 'FOLO', 'FOMC', 'FOMCL', 'FOMO', 'FOMOF', 'FOOT', 'FORD', 'FOS', 'FOUO', 'FPO', 'FRED', 'FROG', 'FRZN', 'FS', 'FSBO', 'FSR', 'FSTOW', 'FSU', 'FTAD', 'FTASB', 'FTBL', 'FTBOMH', 'FTC', 'FTE', 'FTF', 'FTFOI', 'FTL', 'FTLOG', 'FTN', 'FTR', 'FTRF', 'FTTB', 'FTW', 'FU2', 'FUB', 'FUBAR', 'FUBARBUNDY', 'FUBB', 'FUBYOYO', 'FUD', 'FUJIMO', 'FUM', 'FUMF', 'FUPA', 'FURTB', 'FUW', 'FWB', 'FWD', 'FWIW', 'FWOT', 'FYA', 'FYC', 'FYE', 'FYEO', 'FYF', 'FYI', 'FYIFV', 'FYLTGE', 'FYM', 'FYSBIGTBABN', 'G', 'G1', 'G2G', 'G2GLYS', 'G4I', 'G4N', 'G9', 'g98t', 'GA', 'GAB', 'GAFA', 'GAFL', 'GAFYK', 'GAGFI', 'GAHOY', 'GAL', 'GALGAL', 'GALHER', 'GALHIM', 'GANB', 'GAP', 'GAS', 'gawd', 'GB', 'GBG', 'GBH', 'GBP', 'GBTW', 'GC', 'GD', 'GD&R', 'GD&RF', 'GDI', 'GDPR', 'GDW', 'GF', 'GFE', 'GFF', 'GFI', 'GFN', 'GFON', 'GFR', 'GFTD', 'GFTU', 'GFY', 'GFYMF', 'GG', 'GGA', 'GGGG', 'GGN', 'GGOH', 'GGP', 'GGPBL', 'GGY', 'GHM', 'GI', 'GIC', 'GIDK', 'GIGATT', 'GIGO', 'GILF', 'GIST', 'GIT', 'GIWIST', 'GJ', 'GJP', 'GL', 'GLA', 'GLAWD', 'GLB', 'GLBT', 'GLG', 'GLGH', 'GLWS', 'GLYASDI', 'GM', 'GMAB', 'GMAFB', 'GMH', 'GMILY', 'GMTA', 'GMTA ASDO', 'GMTFT', 'GN', 'gn8', 'GNBLFY', 'GNOC', 'GNS', 'GNSD', 'GOAT', 'GOB', 'GOI', 'GOK', 'GOL', 'GOLF', 'GOMB', 'GOOD job', 'GORK', 'GOS', 'GOSPEL', 'GOTDPWYD', 'GOTP', 'GOWI', 'GOYHH', 'GPOY', 'GQMF', 'GR&D', 'GR2BR', 'GR8', 'GRACE', 'GRAS', 'gratz', 'GROBR', 'grrlz', 'GRRR', 'GRX', 'GSC', 'GSOAS', 'GSOH', 'GSTG', 'GSW', 'GSYJDWURMNKH', 'GT', 'GTASC', 'GTFO', 'GTFOOH', 'GTG', 'GTGB', 'GTGP', 'GTH', 'GTK', 'GTL', 'GTM', 'GTP', 'GTRM', 'GTS', 'GTSY', 'GUD', 'guvment', 'GWI', 'GWOT', 'GWS', 'GYHOOYA', 'GYLABTW', 'GYPO', 'H&K', 'h/o', 'h/p', 'H2CUS', 'H2S', 'H4U', 'H4XX0R', 'H9', 'HADVD', 'hag1', 'HAGD', 'HAGN', 'HAGO', 'hahaha', 'HAK', 'HAND', 'HAR', 'HAWTLW', 'HAY', 'HB', 'HBASTD', 'HBB', 'HBIB', 'HBIC', 'HBO', 'HBTU', 'HBU', 'HCC', 'HD', 'HDGFS', 'HDM', 'HEA', 'HENRY', 'HF', 'HHFO', 'HHH', 'HHIS', 'HHO1/2K', 'HHOJ', 'HHOK', 'HHOS', 'HHTYAY', 'Hi 5', 'HIG', 'HIH', 'HIOOC', 'HIPPO', 'HITAKS', 'HMFIC', 'HMFWICC', 'HML', 'HMOT', 'HMU', 'HNTI', 'HNTW', 'HNY', 'HO', 'HOHA', 'HOIC', 'hologram', 'HOT PIC', 'howru', 'HOYEW', 'HP', 'HPOA', 'HPPO', 'HR', 'HRCN', 'HSAY', 'HSIAB', 'HSIK', 'HT', 'HTB', 'HTH', 'HTNOTH', 'HU', 'HUA', 'HUD', 'Huggle', 'HUGZ', 'huh', 'hunty', 'HUYA', 'HV', 'Hwevr', 'HWGA', 'hx', 'I 1-D-R', 'I <3 I', 'I <3 U', 'i h8 it', 'I&I', 'I-D-L', 'IAC', 'IAE', 'IAGTKOM', 'IAITS', 'IANAC', 'IANADBIPOOTV', 'IANAE', 'IANAL', 'IANNNGC', 'IASAP4U', 'IAT', 'IAW', 'IAYM', 'IBGYBG', 'IBIWISI', 'IBK', 'IBRB', 'IBT', 'IBTC', 'IBTD', 'IBTL', 'IC', 'ICBW', 'ICBWICBM', 'ICCL', 'ICIHICPCL', 'ICO-911', 'ICW', 'ICWUM', 'ICYC', 'ICYMI', 'ID', 'ID10T', 'IDBI', 'IDC', 'IDEK', 'IDEWTK', 'IDGAD', 'IDGAF', 'IDGARA', 'IDGHP', 'IDGI', 'IDIFTL', 'IDK', 'IDK, my BFF Jill', 'IDKABTT', 'IDKWTD', 'IDKY', 'IDM', 'IDNKT', 'IDRK', 'IDST', 'IDTA', 'IDTBBF', 'IDTS', 'IDWTUB', 'IEF', 'IF/IB', 'IFAB', 'IFH8TABX', 'IFU', 'Igers', 'IGGP', 'IGTP', 'IGWS', 'IGWST', 'IGYHTBT', 'IHA', 'IHAIM', 'IHNC', 'IHNO', 'IHR', 'IHTFP', 'IHU', 'IHY', 'IIABDFI', 'IIIO', 'IIMAD', 'IINM', 'IIR', 'IIRC', 'IIT', 'IITLYTO', 'IITM', 'IITYWIMWYBMAD', 'IITYWYBMAD', 'IIWII', 'IIWM', 'IJ', 'IJPMP', 'IJS', 'IJWTK', 'IJWTS', 'IKALOPLT', 'IKR', 'IKWYM', 'IKYABWAI', 'ILA', 'ILBCNU', 'ILBCNUL8r', 'ILF/MD', 'ILI', 'ILICISCOMK', 'ILMJ', 'ILU', 'ILUAAF', 'ILY', 'ILY2', 'IM', 'IM2BZ2P', 'IMA', 'IMAO', 'IMCO', 'IME', 'IMEZRU', 'IMF', 'IMFAO', 'imfkd^', 'IMGC', 'IMHEIUO', 'IMHIF', 'IMHO', 'IMI', 'IMJS', 'IMML', 'IMNERHO', 'IMNSHO', 'IMO', 'IMOO', 'IMOWHA', 'IMPOV', 'IMR', 'IMRU', 'IMS', 'INBD', 'INCH', 'INCYDK', 'INMP', 'INNW', 'INPO', 'INUCOSM', 'IOH', 'ION', 'IONO', 'IOT', 'IOTTCO', 'IOU', 'IOUD', 'IOW', 'IPN', 'IRL', 'IRNCOT', 'ISAGN', 'ISH', 'ISO', 'ISS', 'ISSOYS', 'ISSYGTI', 'ISTM', 'ISTR', 'ISWC', 'ISWYM', 'ISYALS', 'ITA', 'ITFA', 'ITGFT', 'ITIGBS', 'ITM', 'ITMA', 'ITMFA', 'ITS', 'ITS A D8', 'ITSFWI', 'IUM', 'IURI', 'IWALU', 'IWBAPTAKYAIYSTA', 'IWBNI', 'IWFU', 'IWFY', 'IWIWU', 'IWSN', 'IWTKCR', 'IYAM', 'IYAOYAS', 'IYCSSNASDSAAA', 'IYD', 'IYDMMA', 'IYFD', 'IYFEG', 'IYKWIM', 'IYKWIMAITYD', 'IYNAEGBTM', 'IYO', 'IYQ', 'IYSS', 'IYSWIM', 'J/C', 'J/J', 'J/K', 'J/O', 'J/P', 'J/W', 'J2LYK', 'J4F', 'J4G', 'J4T or JFT', 'J5M', 'JAD', 'JAFO', 'JAFS', 'JAM', 'JAS', 'JATA', 'JC', 'JDI', 'JDMJ', 'Jealz', 'JEOMK', 'JFC', 'JFH', 'JFI', 'JGH', 'JGMB', 'JHO', 'JHOM', 'JHOMF', 'JIC', 'JK', 'JLY', 'JM2C', 'JMDTP30', 'JMO', 'JOML', 'JOMO', 'JOOTT', 'JOY', 'JP', 'JS', 'JSO', 'JSU', 'JSYK', 'JT', 'JTLYK', 'JTOL', 'JTOU', 'JUADLAM', 'JW', 'K', 'KAB', 'KB', 'KBD', 'KC', 'KCCO', 'kewl', 'KFB', 'KFY -or- K4Y', 'KHYF', 'KIA', 'KIBO', 'KIPPERS', 'KIR', 'KISS', 'KIT', 'kitty', 'KITY', 'KK', 'KKK', 'KMA', 'KMBA', 'KMFHA', 'KMIM', 'KMP', 'KMRIA', 'KMS', 'KMSLA', 'KMUF', 'KMWA', 'KO', 'KOK', 'KOTC', 'KOTL', 'KPC', 'KS', 'Kthxbye', 'kudt', 'KUTGW', 'KWIM', 'KWSTA', 'KYBC', 'KYFC', 'KYNC', 'KYPO', 'KYR', 'KYS', 'KYSOTI', 'L', 'L&R', 'L/M', 'L8TR', 'L?^', 'L@U', 'LA', 'LABATYD', 'LAFW', 'LAGNAF', 'LAGO', 'LAOJ', 'LAQ', 'LB', 'LB?W/C', 'LBH', 'LBR and LGR', 'LBS', 'LBUG or LBIG', 'LD', 'LDIMEDILLIGAF', 'LDR', 'LDTTWA', 'LESM', 'LF', 'LFL', 'LFTI', 'LFU', 'LG', 'LGBT', 'LGBTQ+', 'LGGBDTTTIQQAAPP', 'LGMAS', 'LGTM', 'LGY', 'LH', 'LH6', 'LHK', 'LHM', 'LHO', 'LHOS', 'LHSO', 'LHU', 'LIB', 'LIFO', 'LIG', 'LINS', 'LIR', 'LIS', 'LJBF', 'LKITR', 'LL', 'LLAP', 'LLOM', 'LLT', 'LLTA', 'LLY', 'LM46', 'LM4a~##zzzz>', 'LMAO', 'LMBAO', 'LMBPO', 'LMFAO', 'LMFO', 'LMHO', 'LMIRL', 'LMK', 'LMKHTWOFY', 'LMOA', 'LMP', 'LMR', 'LMS', 'LMSO', 'LMTA', 'LMTC', 'LMTCB', 'lo', 'LOAL', 'LOB', 'LOGO', 'LOK', 'LOL', 'LOL WUSS', 'LOLA', 'LOLOLOL', 'LOLPMP', 'LOLROTF&ICGU', 'LOLZ', 'LOMBARD', 'LOML', 'LONH', 'LOOL', 'LOOMM', 'LOPSOD', 'LORE', 'LOU', 'LOVE', 'LPC', 'LPOS', 'LRF', 'LRT', 'LSB', 'LSHITIPAL', 'LSHMBH', 'LSV', 'LTF', 'LTHTT', 'LTIC', 'LTIO', 'LTM', 'LTNS', 'LTNT', 'LTOTD', 'LTR', 'LTRP', 'LTS', 'LTTIC', 'LU', 'LuK', 'LULU', 'lulz', 'LUMTP', 'LUMU', 'LUMUMI', 'luser', 'LUSM', 'luv', 'LVL', 'LWR', 'LWU', 'LWYS', 'LY', 'LY4E', 'LYA', 'LYAAF', 'LYB', 'LYCYLBB', 'LYKYAMY', 'LYL', 'LYLAB', 'LYLAS', 'LYLB', 'LYMI', 'LYS', 'LYSOUAQ', 'LYSYB', 'LYWAMH', 'M', 'M2NY', 'M4C', 'M4M', 'm4w', 'M8 or M8s', 'MA', 'MAGA', 'MAMIL', 'MAYA', 'MB', 'MBF', 'MBN', 'MBRFN', 'MC', 'MCM', 'MD', 'MDMS', 'MDR', 'MEGO', 'meh', 'MEJR', 'MERP', 'MF', 'MFBTY', 'MFD', 'MfG', 'MFIC', 'MFRC', 'MFWIC', 'MHBFY', 'mhhm', 'MHOTY', 'MHYF', 'MIA', 'MIH', 'MIHAP', 'MIL', 'MILF', 'MINS', 'MIRL', 'MISTWEET', 'MITIN', 'MIWI', 'MKOP', 'MLA', 'MLAS', 'mlm', 'MLYLT', 'MM', 'MMHA2U', 'mmk', 'MML', 'MMYT', 'MO', 'mob', 'MOF', 'MOFO', 'MOMPL', 'moobs', 'MOOC', 'MOOS', 'MOP', 'MorF', 'MOS', 'MOSS', 'MOT', 'MOTAS', 'MOTD', 'MOTOS', 'MOTSS', 'MOV', 'MPFB', 'MRA', 'MRM', 'MRPH', 'MRT', 'MSG', 'MSM', 'MSMD', 'MSNUW', 'MSTA', 'MSTM', 'MT', 'MTBF', 'MTF', 'MTFBWY', 'MTLA', 'MTMMFBWY', 'MTSBWY', 'MTSITN', 'MU', 'MUAH or MWAH', 'MUBAR', 'MULC', 'MUSL', 'MUSM', 'MVA', 'MVA no PI', 'MVA w/PI', 'MVO', 'mvto', 'MWBRL', 'MWS', 'MYL', 'MYOB', 'MYT', 'MYWB', 'N', 'N pic', 'N-A-Y-L', 'N/A', 'N/M', 'N/T', 'N1', 'N2M', 'N2MJCHBU', 'NA', 'NAB', 'NADT', 'NAGB', 'NAGI', 'NAK', 'NALOPKT', 'NAMAILU', 'NASCAR', 'NATC', 'natch', 'NATO', 'NAVY', 'NAZ', 'NB', 'NB4T', 'NBD', 'NBFAB', 'NBFABS', 'NBG', 'NBIF', 'NBLFY', 'NBS', 'NC', 'NCBD', 'NCG', 'ND', 'NDN', 'ne', 'ne-wayz', 'ne1', 'ne14kfc', 'ne1er', 'Ne2H', 'NEET', 'NEF', 'NEJ', 'NESEC', 'NEV', 'NEWEETER', 'NEWS', 'NFBSK', 'NFC', 'NFE', 'NFF', 'NFG', 'NFI', 'NFS', 'NFW', 'NG', 'NGB', 'NGH', 'NGL', 'NGO', 'NH', 'NHOH', 'NI', 'NI4NI', 'NICE', 'NIDL', 'NIFOC', 'NIGYYSOB', 'NIH', 'NIM', 'NIMBY', 'NIMJD', 'NIMQ', 'NIMY', 'NINJA', 'NINO', 'NISM', 'NITL', 'NIYWFD', 'NJAPF', 'NLB', 'NLL', 'NLTBRO', 'NM', 'nm, u', 'NME', 'NMH', 'NMHJC', 'NMM', 'NMP', 'NMTE', 'NMU', 'NN', 'NNCIMINTFZ', 'NNR', 'nnsh', 'NNWW', 'NO', 'no praw', 'no1', 'NOA', 'NOFI', 'noob', 'NOS', 'NOY', 'NOYB', 'NP', 'NQA', 'NQOCD', 'NR', 'NRG', 'NRN', 'NS', 'NSA', 'NSB', 'NSFW', 'NSS', 'NSTLC', 'NTA', 'NTABOM', 'NTB', 'NTBM', 'NTBN', 'nth', 'NTIM', 'NTIMM', 'NTK', 'NTL', 'NTM', 'NTMU', 'NTTAWWT', 'NTW', 'NTYMI', 'NUB', 'NUFF', 'NVM', 'NVNG', 'NW', 'NWAL', 'NWOT', 'NWR', 'NWT', 'NYC', 'NYCFS', 'O', 'OAO', 'OATUS', 'OAUS', 'OB', 'OBE', 'OBO', 'OBS', 'OBTW', 'OBX', 'OC', 'OCD', 'OD', 'ODTAA', 'OF', 'OFAP', 'ofc', 'OG', 'OH', 'OHF', 'OIC', 'OICU812', 'OIRWIS', 'OK', 'OL', 'OLL', 'OLLI', 'OLN', 'OLO', 'OM', 'OMB', 'OMDB', 'OME', 'OMFG', 'OMG', 'OMIK', 'OML', 'OMMA', 'OMW', 'OMWT', 'ONID', 'ONNA', 'ONNTA', 'ONUD', 'OO', 'OOAK', 'OOC', 'OOF', 'OOI', 'OOMF', 'OOO', 'OOS', 'OOT', 'OOTB', 'OOTC', 'OOTD', 'OOTT', 'OOYF', 'OP', 'OSIF', 'OSINTOT', 'OST', 'OT', 'OTASOIC', 'OTB', 'OTC', 'OTF', 'OTH', 'OTL', 'OTOH', 'OTP', 'OTS', 'OTT', 'OTTOMH', 'OTW', 'OUSU', 'ova', 'OWTTE', 'OZ', 'O_O', 'P', 'P&C', 'P-ZA', 'P/U', 'P2C2E', 'P2U4URAQTP', 'P3r50n', 'P911', 'PA', 'PAC', 'PAL', 'PANS', 'PAP', 'paronym', 'PaRT', 'PATT', 'PAW', 'PAX', 'PB', 'PBB', 'PBEM', 'PBIAB', 'PBJ', 'PC', 'PCM', 'PCMCIA', 'PD', 'PDA', 'PDOMA', 'PDQ', 'PDS', 'PEBCAC', 'PEBCAK', 'PEEP', 'peeps', 'pen15', 'PFA', 'PFC', 'PFM', 'phat', 'PHB', 'PHS', 'PIAPS', 'PIBKAC', 'PICNIC', 'PIF', 'PIMP', 'PIMPL', 'PIN', 'PIR', 'PITA', 'PITMEMBOAM', 'pix', 'PLO', 'PLOKTA', 'PLOS', 'PLS', 'PLU', 'PLUR', 'PLZ', 'PM', 'PMBI', 'PMF', 'PMFJI', 'PMHT', 'PMIGBOM', 'PMJI', 'PML', 'PMN', 'PMP', 'PMSL', 'PNATMBC', 'PNATTMBTC', 'PNCAH', 'PND', 'PO', 'po-mo', 'POA', 'POAHF', 'POAK', 'POD', 'POETS', 'POLITWEET', 'POMS', 'PONA', 'POP', 'POS', 'POSC', 'POSSLQ', 'POTATO', 'POTS', 'POTUS', 'POV', 'POW', 'PP', 'PPC', 'PPL', 'PPPPPPP or 7P', 'pron', 'PRT', 'PRW', 'PS', 'PSA', 'PSE', 'PSO', 'PTAT', 'PTH', 'PTL', 'PTMM', 'PTOYED', 'PTP', 'PTPOP', 'PU', 'PUH', 'PUSH', 'puter', 'PVP', 'pw', 'PWAS', 'PWAT', 'PWCB', 'pwms', 'pwn', 'pwnt', 'PWOMS', 'PWP', 'PYFB', 'PYOP', 'Q', 'Q&A', 'Q1', 'Q2C', 'Q416', 'Q4U', 'QAP', 'QB', 'QC', 'QED', 'QFE', 'QFMT', 'QFT', 'QI', 'qix', 'QK', 'QL', 'QLS', 'QOTD', 'QOTP', 'QQ', 'QS', 'QT', 'QYB', 'r', 'r u da?', 'r u goin?', 'r u there?', 'R&D', 'R&R', 'RAEBNC', 'RAF', 'RAFO', 'RAT', 'RB@Ya', 'RBAY', 'RBF', 'RBTL', 'RBU', 'RC', 'RCI', 'RDV', 'RE', 'REDLYFE', 'REHI', 'RESO', 'RFD', 'RFP', 'RFR', 'RFS', 'rgds', 'RGR', 'RHIP', 'RHK', 'RI&W', 'RIMJS', 'RINO', 'RIP', 'RIYL', 'RKBA', 'RL', 'RLCO', 'RLF', 'RLRT', 'RM', 'RMB', 'RMETTH', 'RMLB', 'RMMA', 'RMMM', 'RN', 'RNN', 'RNY', 'ROFL', 'ROFLMAO', 'ROFLMAOASTC', 'ROFLOL', 'ROR', 'ROTFL', 'ROTFLMAO', 'ROTFLMFAO', 'ROTFLOL', 'ROTGL', 'ROTGLMAO', 'ROTM', 'RPG', 'RQB', 'RRQ', 'RRR', 'RSN', 'RSVP', 'RT', 'RTA', 'RTB', 'RTBM', 'RTBS', 'RTFAQ', 'RTFF', 'RTFM', 'RTFQ', 'RTH', 'RTHX', 'RTK', 'RTM or RTFM', 'RTS', 'RTSM', 'RTSS', 'RTTSD', 'RTWFQ', 'RU', 'RU/18', 'RUFKM', 'RUH', 'RUMCYMHMD', 'RUMORF', 'RUNTS', 'RUOK', 'RUS', 'RUSOS', 'RUT', 'RUUP4IT', 'RU\\\\\\\\18', 'RX', 'RYFM', 'RYO', 'RYS', 'S', 'S/N', 'S/S', 'S2G', 'S2R', 'S2U', 'S3<==8', 'S4B', 'S4L', 'SADAD', 'SAHM', 'SAIA', 'SANM', 'SAPFU', 'SB', 'SBI', 'SBTA', 'SBUG', 'SC', 'SCNR', 'SCOTUS', 'SCUICHT', 'SDC', 'SDFB', 'SDFS', 'SDK', 'sec', 'SED', 'SEG', 'SEP', 'SERPT', 'SETE', 'SEWAG', 'SEX', 'SF', 'SFAIAA', 'SFB', 'SFETE', 'SFLA', 'SFP', 'SFTTM', 'SFTW', 'SFX', 'SGTM', 'SH', 'SHB', 'shhh', 'SHID', 'SHIT', 'SHMILY', 'SHT', 'SHTF', 'SHWASLOMF', 'SHXP', 'SIA', 'SIC', 'SICL', 'SICS', 'SII', 'SIL', 'SIN', 'SIP', 'SIRD', 'SIT', 'SITCOM', 'SITD', 'SITUBI', 'SIUP', 'SIUYA', 'SIY', 'SJ', 'sk8er', 'sk8r', 'Sknkr', 'SKYE', 'SL', 'SLAN', 'SLAP', 'SLAW', 'SLIRK', 'SLM', 'SLOM', 'SLT', 'SM', 'sm1', 'SMAIM', 'SMAO', 'SMART', 'SMB', 'SMB2B', 'SMC', 'SMD', 'SME', 'SMEM', 'SMH', 'SMHD', 'SMILF', 'SMIM', 'SMIZE', 'SML', 'SMOP', 'smt', 'SN', 'SNAFU', 'SNAG', 'SNERT', 'SNH', 'SNIF', 'SNL', 'SNNSHWRS', 'SNNY', 'SO', 'SOB', 'SOBT', 'SODDI', 'SOE', 'SOGOP', 'SOH', 'SOHF', 'SOHO', 'SOI', 'SOIAR', 'SoIC', 'sok', 'SOL', 'solomo', 'some1', 'SOMF', 'SOMY', 'SOOYA', 'SOP', 'SorG', 'SOS', 'SOSAD', 'SOSC', 'SOT', 'SOTMG', 'SOW', 'soz', 'SPAT', 'SPEET', 'spk', 'SPOC', 'SRLB', 'SRO', 'SROI', 'srsly', 'sry', 'SSA', 'SSC', 'SSDD', 'SSEWBA', 'SSIA', 'STA', 'STARS', 'STBH', 'STBX', 'STBY', 'STD', 'STEM', 'STFU', 'STFW', 'STG', 'sth', 'STHU', 'STM', 'STML', 'STOW', 'STPPYNOZGTW', 'STR8', 'STS', 'STST', 'STW', 'STYS', 'SU', 'SUAC', 'SUAKM', 'SUB', 'SUFI', 'SUFID', 'SUL', 'sup', 'sux', 'SUYF', 'SWAG', 'SWAK', 'SWALBCAKWS', 'SWALK', 'SWDYT', 'sweet<3', 'SWF', 'SWIM', 'SWIS', 'SWIT', 'SWL', 'SWMBO', 'SWOT', 'SWU', 'SWYP', 'SxE', 'SYK', 'SYL', 'SYS', 'SYT', 's^', 'T&C', 't+', 't2go', 'T2UL', 'T2UT', 'T4P', 'T@YL', 'TA', 'TABOM', 'TABOOMA', 'TAF', 'TAFN', 'TAH', 'TAHITMOTS', 'TAKS', 'TAM', 'TANJ', 'TANSIT', 'TANSTAAFL', 'TAP', 'TARFU', 'TAS', 'TAW', 'TAYN', 'TB', 'TBA', 'TBC', 'TBD', 'TBE', 'TBH', 'TBIU', 'TBT', 'TBU', 'TBYB', 'TC', 'TCB', 'TCFHOG', 'TCK', 'TCOB', 'TCOY', 'TD&H', 'TDM', 'TDTM', 'TEOG', 'TEOTWAWKI', 'TF', 'TFA', 'TFDS', 'TFF', 'TFH', 'TFLMS', 'TFM', 'TFMIU', 'TFN', 'TFS', 'TFTC', 'TFTHAOT', 'TFTT', 'TFTU', 'TFW', 'TFX', 'TFYS', 'TG4A', 'TGAL', 'TGFAD', 'TGGTG', 'TGIC', 'TGIF', 'TGIM', 'TGTSIO', 'THOT', 'THX or TX or THKS', 'TIA', 'TIAIL', 'TIC', 'TIGAS', 'TIL', 'TILF', 'TILII', 'TIME', 'TIMITI', 'TINGLE', 'TINGTES', 'TINWIS', 'TISC', 'TISL', 'TISNC', 'TISNF', 'TISNT', 'TJBNJ', 'TK', 'TKO', 'TKU4UK', 'TL;DR', 'TLA', 'TLC', 'TLGO', 'TLITBC', 'TLK2UL8R', 'TLTR', 'TM', 'TMA', 'TMALSS', 'TMB', 'TMI', 'TMSAISTI', 'TMSGO', 'TMTOWTDI', 'TMTT', 'TNA', 'TNC', 'TNLN', 'TNO', 'TNT', 'TNTL', 'TNX', 'to go nookleer', 'TOBAL', 'TOBG', 'TOM', 'TOMTB', 'TOON', 'TOPCA', 'TOT', 'TOY', 'TP', 'TPC', 'TPIYP', 'TPS', 'TPT', 'TPTB', 'TQM', 'TQRT', 'TRAM', 'TRDMC', 'tripdub', 'TRNDO', 'troo', 'TRP', 'TS', 'TSB', 'TSH', 'TSIA', 'TSIF', 'TSNF', 'TSOB', 'TSR', 'TSRA', 'TSTB', 'TSTL', 'TT', 'TTA', 'TTBOMK', 'TTFN', 'TTG', 'TTIOT', 'TTKSF', 'TTMF', 'TTS', 'TTT', 'TTTH', 'TTTHTFAL', 'TTTKA', 'TTTT', 'TTUL', 'TTYAWFN', 'TTYIAF', 'TTYL', 'TTYL8R', 'TTYLXOXO', 'TTYOB', 'TTYS', 'TTYT', 'TU', 'TVM4YEM', 'TW', 'TWARS', 'TWD', 'TWHAB', 'TWHE', 'TWIMC', 'TWIT', 'TWITA', 'TWIWI', 'TWSS', 'TWTR', 'TWU', 'TXS', 'TXT', 'TXT IM', 'TXT MSG', 'TY', 'TYCLO', 'TYFF', 'TYG', 'TYL', 'TYVM', 'u', 'u up', 'U-L', 'U2', 'u4e', 'u8', 'UAYA', 'UBS', 'UCWAP', 'UDH82BME', 'UDK', 'UDM', 'UFN', 'UFUF', 'UG2BK', 'UGC', 'UGFSU', 'UGTR', 'UMK', 'UNF', 'UNOIT', 'unPC', 'UNT', 'UNTCO', 'UOK', 'UPOD', 'ur', 'UR2K', 'URAPITA', 'URSAI', 'URW', 'URWS', 'URYY4M', 'URZ', 'USC', 'USCWAP', 'USP', 'UTM', 'UV', 'UWIWU', 'UWM', 'UX', 'V', 'VBD', 'VBG', 'VBMG', 'VBS', 'VC', 'VCDA', 'VEG', 'VFM', 'VGN', 'VIM', 'VIP', 'VIV', 'VM', 'VMA', 'VOD', 'VRBS', 'VSF', 'VVS', 'VWD', 'VWP', 'W', 'w wult', \"w's^\", 'W/', 'W/E', 'W/O', 'w/r/t', 'w00t', 'w4m', 'W8', 'W9', 'W@', 'WABI', 'WABOC', 'WABOM', 'WACI', 'WAD', 'WADI', 'WADR', 'WAEF', 'WAFB', 'WAFM', 'WAFS', 'WAFU', 'WAG', 'WAGS', 'WAI', 'WAK', 'WAMBAM', 'wan2', 'WAS', 'WATI', 'WATN', 'WAW', 'WAWI', 'WAY', 'WAYD', 'WAYN', 'WB', 'WBOS', 'WBS', 'WBU', 'WC', 'WCA', 'wckd', 'WCMTSU', 'WCW', 'WD', 'WDALYIC', 'WDDD', 'WDILY', 'WDR', 'WDT', 'WDYJS', 'WDYM', 'WDYMBT', 'WDYS', 'WDYT', 'WE', 'WEG', 'wenja', 'werja', 'werru', 'werubn', 'WETSU', 'WF', 'WFH', 'WFM', 'WG', 'WGAFF', 'WGMGD', 'WHYDTM', 'WIBAMU', 'WIBNI', 'WIIFM', 'WIIFY', 'WIIWII', 'WILB', 'WILCO', 'WIM', 'WIP', 'wirld', 'WISP', 'WIT', 'WITFITS', 'WITW', 'WIU', 'wk', 'wkewl', 'wknd', 'WKYP', 'WLMIRL', 'WLU', 'WLU2', 'WMBY', 'WMHGB', 'WMMOWS', 'WMPL', 'WNDY', 'WNOHGB', 'WOA', 'WOG', 'WOM', 'WOMBAT', 'WoMoBiJo', 'WOMW', 'WOOF', 'woot', 'WOP', 'word', 'WOT', 'WOTAM', 'WOTD', 'WP', 'WRM', 'WRT', 'wru', 'WRUD', 'WRUDATM', 'WSU', 'WT', 'WTAS', 'WTB', 'WTDB', 'WTF', 'WTFDYJS', 'WTFGDA', 'WTFH', 'WTFWYCM', 'WTFYTT', 'WTG', 'WTG4a\\\\\\\\%/', 'WTGP', 'WTH', 'WTHIN', 'WTHOW', 'WTMC', 'WTMI', 'WTN', 'WTS', 'WTSDS', 'WTSHTF', 'WTTM', 'WTTP', 'WTWT', 'WU', 'WUBB', 'WUBG', 'WUD', 'WUF', 'WUT', 'WUWH', 'WUWHIMA', 'wuz', 'wuz4dina', 'wuzup', 'WWBA', 'WWD', 'WWG1WGA', 'WWJD', 'WWNO', 'WWSD', 'WWTT', 'WWW', 'WWY', 'WX', 'WYCM', 'WYD', 'WYFM', 'WYGISWYPF', 'WYM', 'wymyn', 'WYP', 'WYRN', 'WYS', 'WYSILOB', 'WYSIWYG', 'WYSLPG', 'WYT', 'WYTB', 'WYW', 'WYWH', 'X', 'X-I-10', 'X.X', 'XAXA', 'XB', 'XBF', 'XC', 'XL', 'XLNT', 'XME', 'XOXO', 'XOXOZZZ', 'XQZT', 'XTC', 'XXCC', 'Y', 'YA', 'YA yaya', 'YABA', 'YACC', 'YAF', 'YAFIYGI', 'YAHOO', 'YAJWD', 'YAOTM', 'YARBWYR', 'YATFM', 'YATI', 'YAUN', 'YB', 'YBF', 'YBS', 'YBY', 'YBYSA', 'YCMTSU', 'YCMU', 'YCT', 'YDKM', 'YEPPIES', 'YF', 'YGBK', 'YGBSM', 'YGLT', 'YGM', 'YGTBK', 'YGTI', 'YGWYPF', 'YHM', 'YIC', 'YIMBY', 'YITE', 'YIU', 'YIWGP', 'YKW', 'YKWIM', 'YLH', 'YLLO', 'YLW', 'YM', 'YMAK', 'YMAL', 'YMBKM', 'YMMD', 'YMMV', 'YMYBNYCSII', 'YNGBT', 'YNI', 'YNK', 'YOBWOC', 'YOCO', 'YOFO', 'YOLO', 'Yooper', 'YOYO', 'YR', 'YRO', 'YRYOCC', 'YS', 'YSAN', 'ysdiw8', 'YSIC', 'YSK', 'YSVW', 'YSYD', 'YTB', 'YTRNW', 'YTS', 'YTTM', 'YTTT', 'YTTWROOMM', 'YUMPI', 'YUPPIES', 'YVW', 'YW', 'YWIA', 'YY4U', 'YYSSW', 'Z', 'zerg', 'ZMG or ZOMG', 'ZZZ', '\\\\M/', '^5', '^RUP^', '^URS'])"
      ]
     },
     "execution_count": 31,
     "metadata": {},
     "output_type": "execute_result"
    }
   ],
   "source": [
    "slangdict.keys()"
   ]
  },
  {
   "cell_type": "code",
   "execution_count": null,
   "metadata": {
    "collapsed": true
   },
   "outputs": [],
   "source": []
  }
 ],
 "metadata": {
  "kernelspec": {
   "display_name": "Python 3",
   "language": "python",
   "name": "python3"
  },
  "language_info": {
   "codemirror_mode": {
    "name": "ipython",
    "version": 3
   },
   "file_extension": ".py",
   "mimetype": "text/x-python",
   "name": "python",
   "nbconvert_exporter": "python",
   "pygments_lexer": "ipython3",
   "version": "3.6.3"
  }
 },
 "nbformat": 4,
 "nbformat_minor": 2
}
